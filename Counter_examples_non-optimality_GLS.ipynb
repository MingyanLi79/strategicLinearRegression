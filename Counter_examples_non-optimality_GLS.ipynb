{
 "cells": [
  {
   "cell_type": "markdown",
   "metadata": {},
   "source": [
    "# Linear Regression from Strategic Data Sources: Counter-examples\n",
    "\n",
    "This notebook contains the necessary information to replicate the counter-examples from https://arxiv.org/abs/1309.7824 that shows that GLS is not optimal. \n",
    "\n"
   ]
  },
  {
   "cell_type": "markdown",
   "metadata": {},
   "source": [
    "## 1D model (examples 1 and 2)\n",
    "\n",
    "We first define the functions that we use to compute the Nash equilibrium of the game."
   ]
  },
  {
   "cell_type": "code",
   "execution_count": 1,
   "metadata": {},
   "outputs": [],
   "source": [
    "import scipy.optimize as opt\n",
    "import scipy\n",
    "import numpy as np\n",
    "import matplotlib.pyplot as plt\n",
    "import matplotlib as mpl\n",
    "mpl.rcParams['axes.formatter.offset_threshold'] = 10\n",
    "\n",
    "def privacy_cost(l, exponent, scaling_factor=1):\n",
    "    \"\"\" Returns the cost a agent endures for producing data with precision l\n",
    "        in case of monomial cost function\"\"\"\n",
    "    return (l/scaling_factor)**exponent\n",
    "\n",
    "def estimation_cost(L, X, D):\n",
    "    \"\"\"Returns the estimation cost of the game given:\n",
    "        - The vector of precision given by agents L\n",
    "        - The data points X\n",
    "        - The characterization of the estimator as GLS plus a perturbation matrix D\n",
    "        - The number of agents nF\n",
    "        We only consider a one dimensional setting with the scalarizatin being the identity function\"\"\"\n",
    "    d=len(X[0]) # dimension\n",
    "    n=len(L) # number of agents\n",
    "    var = np.zeros((d,d))\n",
    "    for i in range(n):\n",
    "        var += L[i]*np.tensordot(X[i],X[i],axes=0)\n",
    "    GLS_cost = np.trace(np.matrix(var)**(-1))\n",
    "    D_cost = sum([D[i]**2/L[i] for i in range(n)])\n",
    "    return GLS_cost + D_cost\n",
    "\n",
    "def potential(L, X, D,exponents):\n",
    "    \"\"\"The value of the potential function given\n",
    "        - The vector of precision given by agents L\n",
    "        - The data points X\n",
    "        - The characterization of the estimator as GLS plus a perturbation matrix D\n",
    "        \"\"\"\n",
    "    estim_cost = estimation_cost(L, X, D)\n",
    "    indiv_cost = np.sum([privacy_cost(L[i], exponents[i]) for i in range(len(L))])\n",
    "    return indiv_cost + estim_cost\n",
    "\n",
    "def covarianceEquilibrium(X, D, exponents):\n",
    "    \"\"\"\n",
    "    Returns the estimation cost that corresponds to the matrix D\n",
    "    \"\"\"\n",
    "    n = len(X)\n",
    "    bnds = [[1e-10, 1] for i in range(n)]\n",
    "    L0 = np.ones(n)\n",
    "    tol = 1e-20\n",
    "    # Computes the equilibrium of the game by minimizing the potential function\n",
    "    sol = opt.minimize(potential, L0, args=(X, D, exponents), bounds=bnds, tol=tol)\n",
    "    # Computes the estimation cost achieved at the equilibrium\n",
    "    return estimation_cost(sol.x, X, D), sol.x"
   ]
  },
  {
   "cell_type": "markdown",
   "metadata": {},
   "source": [
    "### Types of \"$D$\"-matrix considered\n",
    "\n"
   ]
  },
  {
   "cell_type": "code",
   "execution_count": 2,
   "metadata": {},
   "outputs": [],
   "source": [
    "def perturbation_matrix_1Dexamples(example_number):\n",
    "    \"\"\"Creates a perturbation matrix with a given value which affects\n",
    "    either all agents or only the worst agent. The matrix is created\n",
    "    in such a way that the resulting estimator is unbiaised\n",
    "    \"\"\"\n",
    "    if example_number==1:\n",
    "        return np.array([[1],[-1]])\n",
    "    else:\n",
    "        return np.array([[1],[-1],[0],[0]])\n",
    "    \n",
    "def exponents_1D_examples(example_number):\n",
    "    if example_number==1:\n",
    "        return np.array([1.01,20])\n",
    "    else:\n",
    "        return np.array([1.01,1.01,1.1,1.1])\n",
    "    \n",
    "def X_1D_examples(example_number):\n",
    "    if example_number==1:\n",
    "        return np.array([[1],[1]])\n",
    "    else:\n",
    "        return np.array([[1],[1],[1],[1]])"
   ]
  },
  {
   "cell_type": "code",
   "execution_count": 3,
   "metadata": {},
   "outputs": [],
   "source": [
    "def compute_for_example(deltaMax, example_number):\n",
    "    X = X_1D_examples(example_number)\n",
    "    E = exponents_1D_examples(example_number)\n",
    "    D = perturbation_matrix_1Dexamples(example_number)\n",
    "    deltas = np.linspace(0,deltaMax,100)\n",
    "    costs_precs = [covarianceEquilibrium(X,np.sqrt(delta)*D,E) for delta in deltas]\n",
    "    costs = np.array([cp[0] for cp in costs_precs])\n",
    "    precisions = np.array([cp[1] for cp in costs_precs])\n",
    "    return deltas,costs,precisions"
   ]
  },
  {
   "cell_type": "code",
   "execution_count": null,
   "metadata": {},
   "outputs": [],
   "source": []
  },
  {
   "cell_type": "markdown",
   "metadata": {},
   "source": [
    "## Example 1: two agents\n",
    "everyone receives a perturbation of the same intensity"
   ]
  },
  {
   "cell_type": "code",
   "execution_count": null,
   "metadata": {},
   "outputs": [],
   "source": [
    "plt.figure()\n",
    "deltas, costs, lambdas = compute_for_example(0.06,1)\n",
    "plt.plot(deltas,costs)\n",
    "plt.ylabel('Estimation cost at equilibrium')\n",
    "plt.xlabel('Perturbation $\\delta$')\n",
    "plt.savefig('example1.pdf',bbox_inches='tight')\n",
    "\n",
    "plt.figure()\n",
    "plt.plot(deltas,lambdas[:,0])\n",
    "plt.plot(deltas,lambdas[:,1],'--')\n",
    "plt.ylabel('Precision at equilibrium')\n",
    "plt.xlabel('Perturbation $\\delta$')\n",
    "plt.legend(['Precision of Agent 1','Precision of Agent 2'])\n",
    "plt.savefig('example1_precision.pdf',bbox_inches='tight')\n"
   ]
  },
  {
   "cell_type": "markdown",
   "metadata": {},
   "source": [
    "## Example 2"
   ]
  },
  {
   "cell_type": "code",
   "execution_count": null,
   "metadata": {},
   "outputs": [],
   "source": [
    "plt.figure()\n",
    "deltas, costs, lambdas = compute_for_example(0.0015,2)\n",
    "plt.plot(deltas,costs)\n",
    "plt.ylabel('Estimation cost at equilibrium')\n",
    "plt.xlabel('Perturbation $\\delta$')\n",
    "plt.savefig('example2.pdf',bbox_inches='tight')\n",
    "\n",
    "plt.figure()\n",
    "plt.plot(deltas,lambdas[:,0])\n",
    "plt.plot(deltas,lambdas[:,2],'--')\n",
    "plt.ylabel('Precision at equilibrium')\n",
    "plt.xlabel('Perturbation $\\delta$')\n",
    "plt.legend(['Precision of Agents 1 and 2','Precision of Agents 3 and 4'])\n",
    "plt.savefig('example2_precision.pdf',bbox_inches='tight')\n"
   ]
  },
  {
   "cell_type": "markdown",
   "metadata": {},
   "source": [
    "## Example 3: $d$-dimensional model with $d+1$ agents\n",
    "\n",
    "We first redefine a function for the example 3"
   ]
  },
  {
   "cell_type": "code",
   "execution_count": null,
   "metadata": {},
   "outputs": [],
   "source": [
    "def compute_costs_and_precisions_d_plus_1(d, delta, exps):\n",
    "    def e(i):\n",
    "        res = np.zeros(d)\n",
    "        res[i] = 1\n",
    "        return res\n",
    "    X = [e(i) for i in range(d)]\n",
    "    X.append(np.ones(d)/d) \n",
    "    exponents = np.ones(d+1)*exps[0]\n",
    "    exponents[d] = exps[1]\n",
    "    D = np.ones(d+1)*np.sqrt(delta)\n",
    "    D[d] = -d*np.sqrt(delta)\n",
    "    return covarianceEquilibrium(X,D,exponents)\n",
    "\n",
    "import pickle\n",
    "try: \n",
    "    with open('data.pickle', 'rb') as f:\n",
    "        # The protocol version used is detected automatically, so we do not\n",
    "        # have to specify it.\n",
    "        datas = pickle.load(f)\n",
    "    print('data successfully loaded')\n",
    "except:\n",
    "    datas = dict([])"
   ]
  },
  {
   "cell_type": "code",
   "execution_count": null,
   "metadata": {},
   "outputs": [],
   "source": []
  },
  {
   "cell_type": "code",
   "execution_count": null,
   "metadata": {},
   "outputs": [],
   "source": [
    "#datas = dict([]) # uncomment this line to recompute simulations for the D-dimensional model \n",
    "deltas_max = [1.5e-3,2.5e-5,2.5e-7,2e-8]\n",
    "for i,dim in enumerate([2,5,10,15]):\n",
    "    print('computing dim =',dim,end='...')\n",
    "    if (dim,'d+1 example') in datas: \n",
    "        print('done')\n",
    "        continue\n",
    "    deltas = np.linspace(0,deltas_max[i],100)\n",
    "    costs_precs = [compute_costs_and_precisions_d_plus_1(dim,delta,[20,1.5]) for delta in deltas]\n",
    "    costs = np.array([cp[0] for cp in costs_precs])\n",
    "    precisions = np.array([cp[1] for cp in costs_precs])\n",
    "    datas[(dim,'d+1 example')] = (deltas,costs,precisions)\n",
    "    print('done')\n",
    "\n",
    "with open('data.pickle', 'wb') as f:\n",
    "    # Pickle the 'data' dictionary using the highest protocol available.\n",
    "    pickle.dump(datas, f, pickle.HIGHEST_PROTOCOL)"
   ]
  },
  {
   "cell_type": "code",
   "execution_count": null,
   "metadata": {},
   "outputs": [],
   "source": [
    "for dim in [2,5,10,15]:\n",
    "    print('dim=',dim)\n",
    "    deltas,costs,precisions = datas[(dim,'d+1 example')]\n",
    "    fig=plt.figure()\n",
    "    plt.plot(deltas,costs)\n",
    "    plt.ylabel('Estimation cost at equilibrium')\n",
    "    plt.xlabel(r'Perturbation $\\delta$')\n",
    "    fig.savefig('perturbation_dim{}.pdf'.format(dim), bbox_inches='tight')"
   ]
  },
  {
   "cell_type": "markdown",
   "metadata": {},
   "source": [
    "# Other example (not in the paper): $d$-dimensional examples (with $d+2$ agents)"
   ]
  },
  {
   "cell_type": "code",
   "execution_count": null,
   "metadata": {},
   "outputs": [],
   "source": []
  },
  {
   "cell_type": "code",
   "execution_count": null,
   "metadata": {},
   "outputs": [],
   "source": [
    "def compute_costs_and_precisions(d, delta, exps):\n",
    "    def e(i):\n",
    "        res = np.zeros(d)\n",
    "        res[i] = 1\n",
    "        return res\n",
    "    X = [e(i) for i in range(d)]\n",
    "    X.append(np.ones(d)) \n",
    "    X.append(np.ones(d))\n",
    "    exponents = np.ones(d+2)*exps[0]\n",
    "    exponents[d+1] = exps[1]\n",
    "    D = np.zeros(d+2)\n",
    "    D[d] = delta\n",
    "    D[d+1] = -delta\n",
    "    return covarianceEquilibrium(X,D,exponents)"
   ]
  },
  {
   "cell_type": "code",
   "execution_count": null,
   "metadata": {},
   "outputs": [],
   "source": [
    "# dim=2\n",
    "dim=2\n",
    "deltas = np.linspace(0,.002,100)\n",
    "costs = [compute_costs_and_precisions(dim,delta, [20,1.5])[0] for delta in deltas]\n",
    "plt.plot(deltas,costs)"
   ]
  },
  {
   "cell_type": "code",
   "execution_count": null,
   "metadata": {},
   "outputs": [],
   "source": [
    "#datas = dict([])\n",
    "for dim,ylim in [(2,0.025**2),(5,0.0001),(10,0.005**2),(15,0.003**2)]: #range(1,16):\n",
    "    print('computing dim =',dim,end='...')\n",
    "    if dim in datas: \n",
    "        print('done')\n",
    "        continue\n",
    "    deltas = np.linspace(0,ylim,100)\n",
    "    costs_precs = [compute_costs_and_precisions(dim,delta,[20,1.5]) for delta in deltas]\n",
    "    costs = np.array([cp[0] for cp in costs_precs])\n",
    "    precisions = np.array([cp[1] for cp in costs_precs])\n",
    "    datas[dim] = (deltas,costs,precisions)\n",
    "    print('done')\n",
    "\n",
    "with open('data.pickle', 'wb') as f:\n",
    "    # Pickle the 'data' dictionary using the highest protocol available.\n",
    "    pickle.dump(datas, f, pickle.HIGHEST_PROTOCOL)"
   ]
  },
  {
   "cell_type": "code",
   "execution_count": null,
   "metadata": {},
   "outputs": [],
   "source": [
    "for dim in datas:\n",
    "    deltas,costs,precisions = datas[dim]\n",
    "    plt.plot(deltas,costs/costs[0]-1)\n"
   ]
  }
 ],
 "metadata": {
  "kernelspec": {
   "display_name": "Python 3",
   "language": "python",
   "name": "python3"
  },
  "language_info": {
   "codemirror_mode": {
    "name": "ipython",
    "version": 3
   },
   "file_extension": ".py",
   "mimetype": "text/x-python",
   "name": "python",
   "nbconvert_exporter": "python",
   "pygments_lexer": "ipython3",
   "version": "3.7.7"
  }
 },
 "nbformat": 4,
 "nbformat_minor": 2
}
